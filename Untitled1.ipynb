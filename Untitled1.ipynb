{
  "nbformat": 4,
  "nbformat_minor": 0,
  "metadata": {
    "colab": {
      "name": "Untitled1.ipynb",
      "provenance": [],
      "authorship_tag": "ABX9TyPj5Y1h4V0jLW4NrbD99wEX",
      "include_colab_link": true
    },
    "kernelspec": {
      "name": "python3",
      "display_name": "Python 3"
    }
  },
  "cells": [
    {
      "cell_type": "markdown",
      "metadata": {
        "id": "view-in-github",
        "colab_type": "text"
      },
      "source": [
        "<a href=\"https://colab.research.google.com/github/danirigazio/Ist210/blob/master/Untitled1.ipynb\" target=\"_parent\"><img src=\"https://colab.research.google.com/assets/colab-badge.svg\" alt=\"Open In Colab\"/></a>"
      ]
    },
    {
      "cell_type": "markdown",
      "metadata": {
        "id": "i4RSXQGqd3Nk",
        "colab_type": "text"
      },
      "source": [
        "#Do you like using Jupyter Notebooks?"
      ]
    },
    {
      "cell_type": "markdown",
      "metadata": {
        "id": "Cyw4zb3Wd7PT",
        "colab_type": "text"
      },
      "source": [
        "## I am not sure if I like jupyter notebooks just yet, being that I haven't had a lot of experience with it. I do think by the end of the semester I will, because it is very easy to work with and share."
      ]
    },
    {
      "cell_type": "markdown",
      "metadata": {
        "id": "0YxcoDJ-eXCT",
        "colab_type": "text"
      },
      "source": [
        "# What do you want to learn more about in Jupyter Notebooks?"
      ]
    },
    {
      "cell_type": "markdown",
      "metadata": {
        "id": "tsVr_7SFej13",
        "colab_type": "text"
      },
      "source": [
        "## I would like to see what else can be embedded in the notebook, such as video or sound. Also I would like to see what tricks I learn to make the process of using it smoother."
      ]
    },
    {
      "cell_type": "markdown",
      "metadata": {
        "id": "XelY2j-Re4v-",
        "colab_type": "text"
      },
      "source": [
        "![Puppy](https://raw.githubusercontent.com/danirigazio/Lab1/master/IMG_4874.jpeg?token=AQWTL55I774YOBOJROWK3BC7LA3AC) "
      ]
    }
  ]
}